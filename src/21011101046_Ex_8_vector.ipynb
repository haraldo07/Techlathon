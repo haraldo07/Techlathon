{
 "cells": [
  {
   "cell_type": "code",
   "execution_count": 11,
   "id": "f8b26045",
   "metadata": {},
   "outputs": [],
   "source": [
    "import numpy as np\n",
    "import tensorflow as tf\n",
    "from tensorflow.keras.models import Sequential\n",
    "from tensorflow.keras.layers import LSTM, GRU, Dense\n",
    "from tensorflow.keras.optimizers import Adam\n",
    "from tensorflow.keras.utils import to_categorical\n",
    "from sklearn.model_selection import train_test_split\n",
    "import time"
   ]
  },
  {
   "cell_type": "code",
   "execution_count": 12,
   "id": "499efd4b",
   "metadata": {},
   "outputs": [],
   "source": [
    "sequence_length = 10\n",
    "num_samples = 1000\n",
    "num_classes = 2"
   ]
  },
  {
   "cell_type": "code",
   "execution_count": 13,
   "id": "68b300fc",
   "metadata": {},
   "outputs": [],
   "source": [
    "X = np.random.rand(num_samples, sequence_length, 1)\n",
    "y = np.random.randint(0, num_classes, num_samples)\n",
    "y = to_categorical(y, num_classes=num_classes)"
   ]
  },
  {
   "cell_type": "code",
   "execution_count": 14,
   "id": "59522298",
   "metadata": {},
   "outputs": [],
   "source": [
    "# Split\n",
    "X_train, X_test, y_train, y_test = train_test_split(X, y, test_size=0.2, random_state=42)"
   ]
  },
  {
   "cell_type": "code",
   "execution_count": 15,
   "id": "d2e9ed22",
   "metadata": {},
   "outputs": [],
   "source": [
    "#LSTM\n",
    "lstm_model = Sequential()\n",
    "lstm_model.add(LSTM(64, input_shape=(sequence_length, 1)))\n",
    "lstm_model.add(Dense(num_classes, activation='softmax'))"
   ]
  },
  {
   "cell_type": "code",
   "execution_count": 16,
   "id": "a5742fb2",
   "metadata": {},
   "outputs": [],
   "source": [
    "#GRU\n",
    "gru_model = Sequential()\n",
    "gru_model.add(GRU(64, input_shape=(sequence_length, 1)))\n",
    "gru_model.add(Dense(num_classes, activation='softmax'))"
   ]
  },
  {
   "cell_type": "code",
   "execution_count": 17,
   "id": "4301ada0",
   "metadata": {},
   "outputs": [],
   "source": [
    "optimizer = tf.compat.v1.train.AdamOptimizer(learning_rate=0.001)  # Use the legacy optimizer\n",
    "lstm_model.compile(loss='categorical_crossentropy', optimizer=optimizer, metrics=['accuracy'])\n",
    "gru_model.compile(loss='categorical_crossentropy', optimizer=optimizer, metrics=['accuracy'])"
   ]
  },
  {
   "cell_type": "code",
   "execution_count": 18,
   "id": "c0b28038",
   "metadata": {},
   "outputs": [
    {
     "name": "stdout",
     "output_type": "stream",
     "text": [
      "Epoch 1/10\n",
      "25/25 [==============================] - 6s 60ms/step - loss: 0.6939 - accuracy: 0.4950 - val_loss: 0.6953 - val_accuracy: 0.4650\n",
      "Epoch 2/10\n",
      "25/25 [==============================] - 0s 8ms/step - loss: 0.6940 - accuracy: 0.5113 - val_loss: 0.6962 - val_accuracy: 0.4650\n",
      "Epoch 3/10\n",
      "25/25 [==============================] - 0s 8ms/step - loss: 0.6924 - accuracy: 0.5100 - val_loss: 0.6934 - val_accuracy: 0.4800\n",
      "Epoch 4/10\n",
      "25/25 [==============================] - 0s 9ms/step - loss: 0.6933 - accuracy: 0.5063 - val_loss: 0.6934 - val_accuracy: 0.4800\n",
      "Epoch 5/10\n",
      "25/25 [==============================] - 0s 8ms/step - loss: 0.6931 - accuracy: 0.5125 - val_loss: 0.6950 - val_accuracy: 0.4650\n",
      "Epoch 6/10\n",
      "25/25 [==============================] - 0s 8ms/step - loss: 0.6930 - accuracy: 0.5113 - val_loss: 0.6947 - val_accuracy: 0.4650\n",
      "Epoch 7/10\n",
      "25/25 [==============================] - 0s 7ms/step - loss: 0.6940 - accuracy: 0.4812 - val_loss: 0.6938 - val_accuracy: 0.4750\n",
      "Epoch 8/10\n",
      "25/25 [==============================] - 0s 9ms/step - loss: 0.6928 - accuracy: 0.5100 - val_loss: 0.6956 - val_accuracy: 0.4650\n",
      "Epoch 9/10\n",
      "25/25 [==============================] - 0s 8ms/step - loss: 0.6931 - accuracy: 0.5100 - val_loss: 0.6962 - val_accuracy: 0.4650\n",
      "Epoch 10/10\n",
      "25/25 [==============================] - 0s 9ms/step - loss: 0.6926 - accuracy: 0.5225 - val_loss: 0.6931 - val_accuracy: 0.5100\n"
     ]
    }
   ],
   "source": [
    "#LSTM\n",
    "start_time = time.time()\n",
    "lstm_history = lstm_model.fit(X_train, y_train, validation_data=(X_test, y_test), epochs=10, batch_size=32)\n",
    "lstm_training_time = time.time() - start_time"
   ]
  },
  {
   "cell_type": "code",
   "execution_count": 20,
   "id": "3055b104",
   "metadata": {},
   "outputs": [
    {
     "name": "stdout",
     "output_type": "stream",
     "text": [
      "Epoch 1/10\n",
      "25/25 [==============================] - 5s 55ms/step - loss: 0.6956 - accuracy: 0.5188 - val_loss: 0.6973 - val_accuracy: 0.4650\n",
      "Epoch 2/10\n",
      "25/25 [==============================] - 0s 8ms/step - loss: 0.6946 - accuracy: 0.5113 - val_loss: 0.6938 - val_accuracy: 0.4650\n",
      "Epoch 3/10\n",
      "25/25 [==============================] - 0s 8ms/step - loss: 0.6943 - accuracy: 0.4787 - val_loss: 0.6951 - val_accuracy: 0.4650\n",
      "Epoch 4/10\n",
      "25/25 [==============================] - 0s 7ms/step - loss: 0.6941 - accuracy: 0.4700 - val_loss: 0.6952 - val_accuracy: 0.4650\n",
      "Epoch 5/10\n",
      "25/25 [==============================] - 0s 9ms/step - loss: 0.6927 - accuracy: 0.5063 - val_loss: 0.6948 - val_accuracy: 0.4650\n",
      "Epoch 6/10\n",
      "25/25 [==============================] - 0s 7ms/step - loss: 0.6933 - accuracy: 0.5063 - val_loss: 0.6937 - val_accuracy: 0.5000\n",
      "Epoch 7/10\n",
      "25/25 [==============================] - 0s 8ms/step - loss: 0.6933 - accuracy: 0.4900 - val_loss: 0.6929 - val_accuracy: 0.5050\n",
      "Epoch 8/10\n",
      "25/25 [==============================] - 0s 8ms/step - loss: 0.6952 - accuracy: 0.5038 - val_loss: 0.6948 - val_accuracy: 0.4750\n",
      "Epoch 9/10\n",
      "25/25 [==============================] - 0s 9ms/step - loss: 0.6932 - accuracy: 0.5075 - val_loss: 0.6922 - val_accuracy: 0.4950\n",
      "Epoch 10/10\n",
      "25/25 [==============================] - 0s 8ms/step - loss: 0.6927 - accuracy: 0.5088 - val_loss: 0.6937 - val_accuracy: 0.5150\n"
     ]
    }
   ],
   "source": [
    "#GRU\n",
    "start_time = time.time()\n",
    "gru_history = gru_model.fit(X_train, y_train, validation_data=(X_test, y_test), epochs=10, batch_size=32)\n",
    "gru_training_time = time.time() - start_time"
   ]
  },
  {
   "cell_type": "code",
   "execution_count": 21,
   "id": "c3221afd",
   "metadata": {},
   "outputs": [
    {
     "name": "stdout",
     "output_type": "stream",
     "text": [
      "7/7 [==============================] - 0s 4ms/step - loss: 0.6937 - accuracy: 0.4850\n",
      "7/7 [==============================] - 0s 3ms/step - loss: 0.6937 - accuracy: 0.5150\n"
     ]
    }
   ],
   "source": [
    "lstm_eval = lstm_model.evaluate(X_test, y_test)\n",
    "gru_eval = gru_model.evaluate(X_test, y_test)"
   ]
  },
  {
   "cell_type": "code",
   "execution_count": 22,
   "id": "491a6e00",
   "metadata": {},
   "outputs": [
    {
     "name": "stdout",
     "output_type": "stream",
     "text": [
      "LSTM Accuracy: 0.48500001430511475\n",
      "LSTM Training Time: 2.098952293395996\n",
      "GRU Accuracy: 0.5149999856948853\n",
      "GRU Training Time: 7.1572184562683105\n"
     ]
    }
   ],
   "source": [
    "print(\"LSTM Accuracy:\", lstm_eval[1])\n",
    "print(\"LSTM Training Time:\", lstm_training_time)\n",
    "print(\"GRU Accuracy:\", gru_eval[1])\n",
    "print(\"GRU Training Time:\", gru_training_time)"
   ]
  },
  {
   "cell_type": "code",
   "execution_count": null,
   "id": "c109a061",
   "metadata": {},
   "outputs": [],
   "source": []
  }
 ],
 "metadata": {
  "kernelspec": {
   "display_name": "Python 3 (ipykernel)",
   "language": "python",
   "name": "python3"
  },
  "language_info": {
   "codemirror_mode": {
    "name": "ipython",
    "version": 3
   },
   "file_extension": ".py",
   "mimetype": "text/x-python",
   "name": "python",
   "nbconvert_exporter": "python",
   "pygments_lexer": "ipython3",
   "version": "3.10.13"
  }
 },
 "nbformat": 4,
 "nbformat_minor": 5
}
