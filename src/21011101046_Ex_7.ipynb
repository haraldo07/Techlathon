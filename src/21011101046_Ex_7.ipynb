{
 "cells": [
  {
   "cell_type": "code",
   "execution_count": 1,
   "metadata": {
    "id": "cjHAFdXSXwP4"
   },
   "outputs": [],
   "source": [
    "import tensorflow as tf\n",
    "from tensorflow import keras\n",
    "from tensorflow.keras.datasets import imdb\n",
    "from tensorflow.keras.preprocessing.sequence import pad_sequences\n",
    "from tensorflow.keras.models import Sequential\n",
    "from tensorflow.keras.layers import Embedding,SimpleRNN,Dense,LSTM"
   ]
  },
  {
   "cell_type": "code",
   "execution_count": 2,
   "metadata": {
    "colab": {
     "base_uri": "https://localhost:8080/"
    },
    "id": "FsDITAqXYtqS",
    "outputId": "81be773e-249b-49c9-e82a-4ec0a145d077"
   },
   "outputs": [],
   "source": [
    "maxfeat=200\n",
    "maxlen=200\n",
    "(x_train,y_train),(x_test,y_test)=imdb.load_data(num_words=maxfeat)\n",
    "x_train=pad_sequences(x_train,maxlen=maxlen)\n",
    "x_test=pad_sequences(x_test,maxlen=maxlen)"
   ]
  },
  {
   "cell_type": "code",
   "execution_count": 16,
   "metadata": {
    "id": "tBoz-LlKZvRV"
   },
   "outputs": [],
   "source": [
    "model = Sequential()\n",
    "model.add(Embedding(maxfeat, 32))\n",
    "model.add(SimpleRNN(32))\n",
    "model.add(Dense(1, activation='sigmoid'))\n",
    "model.compile(optimizer='rmsprop', loss='binary_crossentropy', metrics=['accuracy'])"
   ]
  },
  {
   "cell_type": "code",
   "execution_count": null,
   "metadata": {
    "colab": {
     "base_uri": "https://localhost:8080/"
    },
    "id": "1zJri-f_b1Ws",
    "outputId": "14021776-79f3-4630-c0e6-c081106173fe"
   },
   "outputs": [
    {
     "name": "stdout",
     "output_type": "stream",
     "text": [
      "Epoch 1/4\n",
      "49/49 [==============================] - 6s 106ms/step - loss: 0.6839 - accuracy: 0.5512\n",
      "Epoch 2/4\n",
      "18/49 [==========>...................] - ETA: 3s - loss: 0.6488 - accuracy: 0.6302"
     ]
    }
   ],
   "source": [
    "model.fit(x_train,y_train,batch_size=512,epochs=4)"
   ]
  },
  {
   "cell_type": "code",
   "execution_count": 13,
   "metadata": {
    "colab": {
     "base_uri": "https://localhost:8080/"
    },
    "id": "5GJHt-Q-cEtO",
    "outputId": "cca5e234-485a-4656-d848-56cd33360eb2"
   },
   "outputs": [
    {
     "name": "stdout",
     "output_type": "stream",
     "text": [
      "782/782 [==============================] - 14s 18ms/step - loss: 0.6836 - accuracy: 0.5496\n",
      "Vannila Accuracy: 0.549560010433197\n"
     ]
    }
   ],
   "source": [
    "score=model.evaluate(x_test,y_test)\n",
    "print(\"Vannila Accuracy:\",score[1])"
   ]
  },
  {
   "cell_type": "code",
   "execution_count": 12,
   "metadata": {
    "colab": {
     "base_uri": "https://localhost:8080/"
    },
    "id": "bsrV8zEoc5C6",
    "outputId": "711b6278-3f65-4abd-8e20-a3924f286624"
   },
   "outputs": [
    {
     "name": "stdout",
     "output_type": "stream",
     "text": [
      "Epoch 1/4\n",
      "49/49 [==============================] - 10s 145ms/step - loss: 0.6900 - accuracy: 0.5656\n",
      "Epoch 2/4\n",
      "49/49 [==============================] - 6s 112ms/step - loss: 0.5899 - accuracy: 0.7025\n",
      "Epoch 3/4\n",
      "49/49 [==============================] - 5s 96ms/step - loss: 0.4237 - accuracy: 0.8193\n",
      "Epoch 4/4\n",
      "49/49 [==============================] - 4s 88ms/step - loss: 0.3454 - accuracy: 0.8576\n"
     ]
    },
    {
     "data": {
      "text/plain": [
       "<keras.callbacks.History at 0x7d93a954d7b0>"
      ]
     },
     "execution_count": 12,
     "metadata": {},
     "output_type": "execute_result"
    }
   ],
   "source": [
    "model1 = Sequential()\n",
    "model1.add(Embedding(maxfeat, 32))\n",
    "model1.add(LSTM(32))\n",
    "model1.add(Dense(1, activation='sigmoid'))\n",
    "model1.compile(optimizer='rmsprop', loss='binary_crossentropy', metrics=['accuracy'])\n",
    "model1.fit(x_train,y_train,batch_size=512,epochs=4)"
   ]
  },
  {
   "cell_type": "code",
   "execution_count": 15,
   "metadata": {
    "colab": {
     "base_uri": "https://localhost:8080/"
    },
    "id": "x8k17cgteKrt",
    "outputId": "a65a3162-202a-47c0-9f30-63303319d9cb"
   },
   "outputs": [
    {
     "name": "stdout",
     "output_type": "stream",
     "text": [
      "782/782 [==============================] - 4s 5ms/step - loss: 0.3481 - accuracy: 0.8536\n",
      "Normal Accuracy: 0.853600025177002\n"
     ]
    }
   ],
   "source": [
    "score1=model1.evaluate(x_test,y_test)\n",
    "print(\"Normal Accuracy:\",score1[1])"
   ]
  },
  {
   "cell_type": "code",
   "execution_count": null,
   "metadata": {
    "id": "i3hdDWrEevOs"
   },
   "outputs": [],
   "source": []
  }
 ],
 "metadata": {
  "accelerator": "GPU",
  "colab": {
   "gpuType": "T4",
   "provenance": []
  },
  "kernelspec": {
   "display_name": "Python 3 (ipykernel)",
   "language": "python",
   "name": "python3"
  },
  "language_info": {
   "codemirror_mode": {
    "name": "ipython",
    "version": 3
   },
   "file_extension": ".py",
   "mimetype": "text/x-python",
   "name": "python",
   "nbconvert_exporter": "python",
   "pygments_lexer": "ipython3",
   "version": "3.10.13"
  }
 },
 "nbformat": 4,
 "nbformat_minor": 4
}
