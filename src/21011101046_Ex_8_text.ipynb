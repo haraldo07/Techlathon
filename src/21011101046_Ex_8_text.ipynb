{
 "cells": [
  {
   "cell_type": "code",
   "execution_count": 1,
   "id": "3552e8aa",
   "metadata": {},
   "outputs": [],
   "source": [
    "import numpy as np\n",
    "from tensorflow.keras.datasets import imdb\n",
    "from tensorflow.keras.preprocessing.sequence import pad_sequences\n",
    "from tensorflow.keras.models import Sequential\n",
    "from tensorflow.keras.layers import Embedding, LSTM, GRU, Dense\n",
    "from tensorflow.keras.utils import to_categorical\n",
    "import time"
   ]
  },
  {
   "cell_type": "code",
   "execution_count": 2,
   "id": "3d4b781d",
   "metadata": {},
   "outputs": [],
   "source": [
    "num_words = 10000 \n",
    "(x_train, y_train), (x_test, y_test) = imdb.load_data(num_words=num_words)\n"
   ]
  },
  {
   "cell_type": "code",
   "execution_count": 3,
   "id": "a098cfba",
   "metadata": {},
   "outputs": [],
   "source": [
    "max_len = 100\n",
    "x_train = pad_sequences(x_train, maxlen=max_len)\n",
    "x_test = pad_sequences(x_test, maxlen=max_len)"
   ]
  },
  {
   "cell_type": "code",
   "execution_count": 4,
   "id": "7c3e3630",
   "metadata": {},
   "outputs": [],
   "source": [
    "y_train = to_categorical(y_train, 2)\n",
    "y_test = to_categorical(y_test, 2)"
   ]
  },
  {
   "cell_type": "code",
   "execution_count": 5,
   "id": "fbcf92dd",
   "metadata": {},
   "outputs": [],
   "source": [
    "#LSTM\n",
    "lstm_model = Sequential()\n",
    "lstm_model.add(Embedding(num_words, 128, input_length=max_len))\n",
    "lstm_model.add(LSTM(128))\n",
    "lstm_model.add(Dense(2, activation='softmax'))"
   ]
  },
  {
   "cell_type": "code",
   "execution_count": 6,
   "id": "abd3c099",
   "metadata": {},
   "outputs": [
    {
     "name": "stdout",
     "output_type": "stream",
     "text": [
      "Epoch 1/5\n",
      "196/196 [==============================] - 11s 28ms/step - loss: 0.4310 - accuracy: 0.7909 - val_loss: 0.3419 - val_accuracy: 0.8510\n",
      "Epoch 2/5\n",
      "196/196 [==============================] - 4s 23ms/step - loss: 0.2610 - accuracy: 0.8954 - val_loss: 0.3454 - val_accuracy: 0.8472\n",
      "Epoch 3/5\n",
      "196/196 [==============================] - 4s 23ms/step - loss: 0.1901 - accuracy: 0.9279 - val_loss: 0.3835 - val_accuracy: 0.8419\n",
      "Epoch 4/5\n",
      "196/196 [==============================] - 4s 22ms/step - loss: 0.1306 - accuracy: 0.9526 - val_loss: 0.5175 - val_accuracy: 0.8292\n",
      "Epoch 5/5\n",
      "196/196 [==============================] - 4s 22ms/step - loss: 0.1008 - accuracy: 0.9640 - val_loss: 0.6622 - val_accuracy: 0.8246\n"
     ]
    }
   ],
   "source": [
    "#LSTM\n",
    "lstm_model.compile(loss='categorical_crossentropy', optimizer='adam', metrics=['accuracy'])\n",
    "start_time = time.time()\n",
    "lstm_model.fit(x_train, y_train, validation_data=(x_test, y_test), epochs=5, batch_size=128)\n",
    "end_time = time.time()\n",
    "lstm_time = end_time - start_time"
   ]
  },
  {
   "cell_type": "code",
   "execution_count": 7,
   "id": "0b08bcec",
   "metadata": {},
   "outputs": [],
   "source": [
    "#LSTM\n",
    "lstm_accuracy = lstm_model.evaluate(x_test, y_test, verbose=0)[1]"
   ]
  },
  {
   "cell_type": "code",
   "execution_count": 8,
   "id": "0868dac1",
   "metadata": {},
   "outputs": [],
   "source": [
    "#GRU\n",
    "gru_model = Sequential()\n",
    "gru_model.add(Embedding(num_words, 128, input_length=max_len))\n",
    "gru_model.add(GRU(128))\n",
    "gru_model.add(Dense(2, activation='softmax'))"
   ]
  },
  {
   "cell_type": "code",
   "execution_count": 9,
   "id": "43c018a4",
   "metadata": {},
   "outputs": [
    {
     "name": "stdout",
     "output_type": "stream",
     "text": [
      "Epoch 1/5\n",
      "196/196 [==============================] - 6s 21ms/step - loss: 0.4413 - accuracy: 0.7826 - val_loss: 0.3737 - val_accuracy: 0.8428\n",
      "Epoch 2/5\n",
      "196/196 [==============================] - 4s 20ms/step - loss: 0.2655 - accuracy: 0.8934 - val_loss: 0.3546 - val_accuracy: 0.8457\n",
      "Epoch 3/5\n",
      "196/196 [==============================] - 4s 19ms/step - loss: 0.1933 - accuracy: 0.9264 - val_loss: 0.4462 - val_accuracy: 0.8350\n",
      "Epoch 4/5\n",
      "196/196 [==============================] - 4s 19ms/step - loss: 0.1381 - accuracy: 0.9491 - val_loss: 0.4731 - val_accuracy: 0.8372\n",
      "Epoch 5/5\n",
      "196/196 [==============================] - 4s 19ms/step - loss: 0.0946 - accuracy: 0.9676 - val_loss: 0.6301 - val_accuracy: 0.8272\n"
     ]
    }
   ],
   "source": [
    "# GRU\n",
    "gru_model.compile(loss='categorical_crossentropy', optimizer='adam', metrics=['accuracy'])\n",
    "start_time = time.time()\n",
    "gru_model.fit(x_train, y_train, validation_data=(x_test, y_test), epochs=5, batch_size=128)\n",
    "end_time = time.time()\n",
    "gru_time = end_time - start_time"
   ]
  },
  {
   "cell_type": "code",
   "execution_count": 10,
   "id": "1253dfc8",
   "metadata": {},
   "outputs": [],
   "source": [
    "gru_accuracy = gru_model.evaluate(x_test, y_test, verbose=0)[1]"
   ]
  },
  {
   "cell_type": "code",
   "execution_count": 11,
   "id": "ed9d21d8",
   "metadata": {},
   "outputs": [
    {
     "name": "stdout",
     "output_type": "stream",
     "text": [
      "LSTM Accuracy: 0.8245599865913391\n",
      "LSTM Training Time: 28.446825742721558\n",
      "GRU Accuracy: 0.8271600008010864\n",
      "GRU Training Time: 20.72233009338379\n"
     ]
    }
   ],
   "source": [
    "print(\"LSTM Accuracy:\", lstm_accuracy)\n",
    "print(\"LSTM Training Time:\", lstm_time)\n",
    "print(\"GRU Accuracy:\", gru_accuracy)\n",
    "print(\"GRU Training Time:\", gru_time)\n"
   ]
  },
  {
   "cell_type": "code",
   "execution_count": null,
   "id": "31d1bac8-0805-41c3-8054-ad187fcab943",
   "metadata": {},
   "outputs": [],
   "source": []
  }
 ],
 "metadata": {
  "kernelspec": {
   "display_name": "Python 3 (ipykernel)",
   "language": "python",
   "name": "python3"
  },
  "language_info": {
   "codemirror_mode": {
    "name": "ipython",
    "version": 3
   },
   "file_extension": ".py",
   "mimetype": "text/x-python",
   "name": "python",
   "nbconvert_exporter": "python",
   "pygments_lexer": "ipython3",
   "version": "3.10.13"
  }
 },
 "nbformat": 4,
 "nbformat_minor": 5
}
