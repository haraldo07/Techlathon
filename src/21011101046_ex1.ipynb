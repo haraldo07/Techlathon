{
 "cells": [
  {
   "cell_type": "code",
   "execution_count": 1,
   "id": "e4cb9ac7",
   "metadata": {},
   "outputs": [],
   "source": [
    "import numpy as np"
   ]
  },
  {
   "cell_type": "code",
   "execution_count": 3,
   "id": "78ee6799-9e43-4108-8051-463b93264a4d",
   "metadata": {},
   "outputs": [
    {
     "data": {
      "text/plain": [
       "False"
      ]
     },
     "execution_count": 3,
     "metadata": {},
     "output_type": "execute_result"
    }
   ],
   "source": [
    "np.bool_()"
   ]
  },
  {
   "cell_type": "code",
   "execution_count": 19,
   "id": "cc60f5db",
   "metadata": {},
   "outputs": [],
   "source": [
    "x=np.array([0,1])\n",
    "y_and=np.array([0,0,0,1])\n",
    "y_or=np.array([0,1,1,1])\n",
    "y_nand=np.array([1,1,1,0])\n",
    "y_nor=np.array([1,0,0,0])\n",
    "y_taut=np.array([1,1,1,1])\n",
    "y_not=np.array([1,0])"
   ]
  },
  {
   "cell_type": "code",
   "execution_count": 20,
   "id": "87bef49f",
   "metadata": {},
   "outputs": [],
   "source": [
    "def gradient_descent(x,y_test):\n",
    "    y_pred=np.empty(4)\n",
    "    lr=0.01\n",
    "    w1=np.random.randn()\n",
    "    w2=np.random.randn()\n",
    "    b=np.random.randn()\n",
    "    print(\" weights and bias before gradient descent\")\n",
    "    print(w1,'\\n',w2,'\\n',b,'\\n')\n",
    "    for k in range(1000):\n",
    "        count=0\n",
    "        for i in x:\n",
    "            for j in x:\n",
    "                y=(i*w1)+(j*w2)+b\n",
    "                if y>0:\n",
    "                    y=1\n",
    "                else:\n",
    "                    y=0\n",
    "                y_pred[count]=y\n",
    "                dw1=(-2/4)*i*(y_test[count]-y)\n",
    "                dw2=(-2/4)*j*(y_test[count]-y)\n",
    "                db=(-2/4)*(y_test[count]-y)\n",
    "\n",
    "                w1=w1-(lr*dw1)\n",
    "                w2=w2-(lr*dw2)\n",
    "                b=b-(lr*db)\n",
    "                count+=1\n",
    "    print(\" weights and bias after gradient descent\")\n",
    "    print(w1,'\\n',w2,'\\n',b,'\\n')\n",
    "    print(\"\\n Actual value : \",y_test)\n",
    "    print(\"\\n Predicted value : \",y_pred)"
   ]
  },
  {
   "cell_type": "code",
   "execution_count": 21,
   "id": "92af5fce",
   "metadata": {},
   "outputs": [],
   "source": [
    "def gradient_descent_not(x,y_test):\n",
    "    y_pred=np.empty(2)\n",
    "    lr=0.1\n",
    "    w1=np.random.randn()\n",
    "    b=np.random.randn()\n",
    "    print(\" weights and bias before gradient descent\")\n",
    "    print(w1,'\\n',b,'\\n')\n",
    "    for k in range(50):\n",
    "        count=0\n",
    "        for i in x:\n",
    "            y=(i*w1)+b\n",
    "            if y>0:\n",
    "                y=1\n",
    "            else:\n",
    "                y=0\n",
    "            y_pred[count]=y\n",
    "            dw1=(-2/2)*i*(y_test[count]-y)\n",
    "            db=(-2/2)*(y_test[count]-y)\n",
    "\n",
    "            w1=w1-(lr*dw1)\n",
    "            b=b-(lr*db)\n",
    "            count+=1\n",
    "    print(\" weights and bias after gradient descent\")\n",
    "    print(w1,'\\n',b,'\\n')\n",
    "    print(\"\\n Actual value : \",y_test)\n",
    "    print(\"\\n Predicted value : \",y_pred)"
   ]
  },
  {
   "cell_type": "code",
   "execution_count": 22,
   "id": "54036e3c",
   "metadata": {},
   "outputs": [
    {
     "name": "stdout",
     "output_type": "stream",
     "text": [
      " weights and bias before gradient descent\n",
      "0.4934267646649718 \n",
      " 1.1063132672315261 \n",
      " -0.11060797727201213 \n",
      "\n",
      " weights and bias after gradient descent\n",
      "0.3634267646649717 \n",
      " 0.6713132672315281 \n",
      " -0.6756079772720126 \n",
      "\n",
      "\n",
      " Actual value :  [0 0 0 1]\n",
      "\n",
      " Predicted value :  [0. 0. 0. 1.]\n"
     ]
    }
   ],
   "source": [
    "gradient_descent(x,y_and)"
   ]
  },
  {
   "cell_type": "code",
   "execution_count": 10,
   "id": "a24e5b35",
   "metadata": {},
   "outputs": [
    {
     "name": "stdout",
     "output_type": "stream",
     "text": [
      " weights and bias before gradient descent\n",
      "-0.7462202749175193 \n",
      " 0.9147262427161225 \n",
      " 2.134382997606495 \n",
      "\n",
      " weights and bias after gradient descent\n",
      "0.0537797250824808 \n",
      " 0.9147262427161225 \n",
      " -0.015617002393505705 \n",
      "\n",
      "\n",
      " Actual value :  [0 1 1 1]\n",
      "\n",
      " Predicted value :  [0. 1. 1. 1.]\n"
     ]
    }
   ],
   "source": [
    "gradient_descent(x,y_or)"
   ]
  },
  {
   "cell_type": "code",
   "execution_count": 40,
   "id": "4e985bd5",
   "metadata": {},
   "outputs": [
    {
     "name": "stdout",
     "output_type": "stream",
     "text": [
      " weights and bias before gradient descent\n",
      "0.705386531153506 \n",
      " 1.2687446557083935 \n",
      " -0.11856464296295187 \n",
      "\n",
      " weights and bias after gradient descent\n",
      "-0.09461346884649409 \n",
      " -0.08125534429160715 \n",
      " 0.13143535703704814 \n",
      "\n",
      "\n",
      " Actual value :  [1 1 1 0]\n",
      "\n",
      " Predicted value :  [1. 1. 1. 0.]\n"
     ]
    }
   ],
   "source": [
    "gradient_descent(x,y_nand)"
   ]
  },
  {
   "cell_type": "code",
   "execution_count": 41,
   "id": "7e638edc",
   "metadata": {},
   "outputs": [
    {
     "name": "stdout",
     "output_type": "stream",
     "text": [
      " weights and bias before gradient descent\n",
      "0.2428068237318766 \n",
      " 0.770983234361709 \n",
      " 0.4074271887919729 \n",
      "\n",
      " weights and bias after gradient descent\n",
      "-0.15719317626812343 \n",
      " -0.029016765638291142 \n",
      " 0.0074271887919729745 \n",
      "\n",
      "\n",
      " Actual value :  [1 0 0 0]\n",
      "\n",
      " Predicted value :  [1. 0. 0. 0.]\n"
     ]
    }
   ],
   "source": [
    "gradient_descent(x,y_nor)"
   ]
  },
  {
   "cell_type": "code",
   "execution_count": 42,
   "id": "ff14ed0c",
   "metadata": {},
   "outputs": [
    {
     "name": "stdout",
     "output_type": "stream",
     "text": [
      " weights and bias before gradient descent\n",
      "1.0672835977859982 \n",
      " -1.3752160808500546 \n",
      " -0.8847341984021467 \n",
      "\n",
      " weights and bias after gradient descent\n",
      "1.2672835977859984 \n",
      " -0.3752160808500539 \n",
      " 0.46526580159785347 \n",
      "\n",
      "\n",
      " Actual value :  [1 1 1 1]\n",
      "\n",
      " Predicted value :  [1. 1. 1. 1.]\n"
     ]
    }
   ],
   "source": [
    "gradient_descent(x,y_taut)"
   ]
  },
  {
   "cell_type": "code",
   "execution_count": 43,
   "id": "cceaa818",
   "metadata": {},
   "outputs": [
    {
     "name": "stdout",
     "output_type": "stream",
     "text": [
      " weights and bias before gradient descent\n",
      "-1.3813011167449545 \n",
      " -1.7680916253006125 \n",
      "\n",
      " weights and bias after gradient descent\n",
      "-1.3813011167449545 \n",
      " 0.03190837469938798 \n",
      "\n",
      "\n",
      " Actual value :  [1 0]\n",
      "\n",
      " Predicted value :  [1. 0.]\n"
     ]
    }
   ],
   "source": [
    "gradient_descent_not(x,y_not)"
   ]
  },
  {
   "cell_type": "code",
   "execution_count": 11,
   "id": "eec38511",
   "metadata": {},
   "outputs": [],
   "source": [
    "x=np.array([[0,1],[0,0]])"
   ]
  },
  {
   "cell_type": "code",
   "execution_count": 12,
   "id": "878c2645",
   "metadata": {},
   "outputs": [
    {
     "data": {
      "text/plain": [
       "array([0, 1])"
      ]
     },
     "execution_count": 12,
     "metadata": {},
     "output_type": "execute_result"
    }
   ],
   "source": [
    "x[:][0]"
   ]
  },
  {
   "cell_type": "code",
   "execution_count": null,
   "id": "b8367a41-efab-457b-9467-2c33f32e64e2",
   "metadata": {},
   "outputs": [],
   "source": []
  }
 ],
 "metadata": {
  "kernelspec": {
   "display_name": "Python 3 (ipykernel)",
   "language": "python",
   "name": "python3"
  },
  "language_info": {
   "codemirror_mode": {
    "name": "ipython",
    "version": 3
   },
   "file_extension": ".py",
   "mimetype": "text/x-python",
   "name": "python",
   "nbconvert_exporter": "python",
   "pygments_lexer": "ipython3",
   "version": "3.10.13"
  }
 },
 "nbformat": 4,
 "nbformat_minor": 5
}
