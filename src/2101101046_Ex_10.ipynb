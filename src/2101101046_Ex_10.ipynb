{
 "cells": [
  {
   "cell_type": "markdown",
   "metadata": {
    "id": "SnJd20B2nk0O"
   },
   "source": [
    "Importing the libraries"
   ]
  },
  {
   "cell_type": "code",
   "execution_count": 1,
   "metadata": {
    "id": "55uOzHgamYyJ"
   },
   "outputs": [],
   "source": [
    "import numpy as np\n",
    "import tensorflow as tf\n",
    "from tensorflow.keras.layers import Conv2D, MaxPooling2D, Flatten, Dense\n",
    "from tensorflow.keras.models import Sequential"
   ]
  },
  {
   "cell_type": "markdown",
   "metadata": {
    "id": "cvzt7-fnnoXt"
   },
   "source": [
    "Loading the Dataset"
   ]
  },
  {
   "cell_type": "code",
   "execution_count": 2,
   "metadata": {
    "colab": {
     "base_uri": "https://localhost:8080/"
    },
    "id": "HEcUR1Lbndw1",
    "outputId": "86b213b1-e6d5-4e8f-9d99-da5aa2e3dd37"
   },
   "outputs": [
    {
     "name": "stdout",
     "output_type": "stream",
     "text": [
      "Downloading data from https://www.cs.toronto.edu/~kriz/cifar-10-python.tar.gz\n",
      "170498071/170498071 [==============================] - 4s 0us/step\n"
     ]
    }
   ],
   "source": [
    "(x_train, y_train), (x_test, y_test) = tf.keras.datasets.cifar10.load_data()\n",
    "x_train, x_test = x_train / 255.0, x_test / 255.0"
   ]
  },
  {
   "cell_type": "markdown",
   "metadata": {
    "id": "jGBp-TocnynU"
   },
   "source": [
    "Model Building"
   ]
  },
  {
   "cell_type": "code",
   "execution_count": 3,
   "metadata": {
    "id": "uFcOPzYHnt7z"
   },
   "outputs": [],
   "source": [
    "model = Sequential([\n",
    "    Conv2D(32, (3, 3), activation='relu', input_shape=(32, 32, 3)),\n",
    "    MaxPooling2D((2, 2)),\n",
    "    Conv2D(64, (3, 3), activation='relu'),\n",
    "    MaxPooling2D((2, 2)),\n",
    "    Conv2D(64, (3, 3), activation='relu'),\n",
    "    Flatten(),\n",
    "    Dense(64, activation='relu'),\n",
    "    Dense(10, activation='softmax')  # Number of classes in CIFAR-10\n",
    "])"
   ]
  },
  {
   "cell_type": "code",
   "execution_count": 4,
   "metadata": {
    "id": "6ExG1fhnn0eq"
   },
   "outputs": [],
   "source": [
    "model.compile(optimizer='adam',\n",
    "              loss='sparse_categorical_crossentropy',\n",
    "              metrics=['accuracy'])\n"
   ]
  },
  {
   "cell_type": "code",
   "execution_count": 5,
   "metadata": {
    "colab": {
     "base_uri": "https://localhost:8080/"
    },
    "id": "CYQrK7rdn56q",
    "outputId": "a4b4a46e-b2f9-4a02-829a-00f9b61fef7f"
   },
   "outputs": [
    {
     "name": "stdout",
     "output_type": "stream",
     "text": [
      "Epoch 1/10\n",
      "1563/1563 [==============================] - 71s 45ms/step - loss: 1.5309 - accuracy: 0.4440 - val_loss: 1.2269 - val_accuracy: 0.5618\n",
      "Epoch 2/10\n",
      "1563/1563 [==============================] - 65s 41ms/step - loss: 1.1583 - accuracy: 0.5881 - val_loss: 1.0940 - val_accuracy: 0.6101\n",
      "Epoch 3/10\n",
      "1563/1563 [==============================] - 65s 42ms/step - loss: 1.0115 - accuracy: 0.6428 - val_loss: 1.0170 - val_accuracy: 0.6332\n",
      "Epoch 4/10\n",
      "1563/1563 [==============================] - 64s 41ms/step - loss: 0.9116 - accuracy: 0.6821 - val_loss: 0.9606 - val_accuracy: 0.6670\n",
      "Epoch 5/10\n",
      "1563/1563 [==============================] - 65s 42ms/step - loss: 0.8403 - accuracy: 0.7069 - val_loss: 0.9151 - val_accuracy: 0.6771\n",
      "Epoch 6/10\n",
      "1563/1563 [==============================] - 62s 40ms/step - loss: 0.7776 - accuracy: 0.7275 - val_loss: 0.9153 - val_accuracy: 0.6854\n",
      "Epoch 7/10\n",
      "1563/1563 [==============================] - 65s 42ms/step - loss: 0.7247 - accuracy: 0.7466 - val_loss: 0.8549 - val_accuracy: 0.7070\n",
      "Epoch 8/10\n",
      "1563/1563 [==============================] - 64s 41ms/step - loss: 0.6818 - accuracy: 0.7629 - val_loss: 0.8735 - val_accuracy: 0.7026\n",
      "Epoch 9/10\n",
      "1563/1563 [==============================] - 66s 42ms/step - loss: 0.6365 - accuracy: 0.7777 - val_loss: 0.8751 - val_accuracy: 0.7086\n",
      "Epoch 10/10\n",
      "1563/1563 [==============================] - 66s 42ms/step - loss: 0.5970 - accuracy: 0.7890 - val_loss: 0.8619 - val_accuracy: 0.7193\n"
     ]
    },
    {
     "data": {
      "text/plain": [
       "<keras.src.callbacks.History at 0x78c3bbbe0ac0>"
      ]
     },
     "execution_count": 5,
     "metadata": {},
     "output_type": "execute_result"
    }
   ],
   "source": [
    "model.fit(x_train, y_train, epochs=10, validation_data=(x_test, y_test))"
   ]
  },
  {
   "cell_type": "code",
   "execution_count": 6,
   "metadata": {
    "id": "IL-QIskUn8fN"
   },
   "outputs": [],
   "source": [
    "def detect_objects(image):\n",
    "    image = np.expand_dims(image, axis=0)\n",
    "    predictions = model.predict(image)\n",
    "    class_index = np.argmax(predictions)\n",
    "\n",
    "    return class_index"
   ]
  },
  {
   "cell_type": "code",
   "execution_count": 7,
   "metadata": {
    "id": "tFZ49dMYoKrB"
   },
   "outputs": [],
   "source": [
    "sample_image = x_test[0]"
   ]
  },
  {
   "cell_type": "code",
   "execution_count": 8,
   "metadata": {
    "colab": {
     "base_uri": "https://localhost:8080/"
    },
    "id": "aOHPULmuoPeu",
    "outputId": "b04f36c0-e33a-4431-94ad-93fcc3e81f19"
   },
   "outputs": [
    {
     "name": "stdout",
     "output_type": "stream",
     "text": [
      "1/1 [==============================] - 0s 228ms/step\n",
      "Detected class index: 5\n"
     ]
    }
   ],
   "source": [
    "detected_class = detect_objects(sample_image)\n",
    "\n",
    "print(f\"Detected class index: {detected_class}\")"
   ]
  },
  {
   "cell_type": "code",
   "execution_count": null,
   "metadata": {
    "id": "Q8XwoSfCruyd"
   },
   "outputs": [],
   "source": []
  }
 ],
 "metadata": {
  "colab": {
   "provenance": []
  },
  "kernelspec": {
   "display_name": "Python 3 (ipykernel)",
   "language": "python",
   "name": "python3"
  },
  "language_info": {
   "codemirror_mode": {
    "name": "ipython",
    "version": 3
   },
   "file_extension": ".py",
   "mimetype": "text/x-python",
   "name": "python",
   "nbconvert_exporter": "python",
   "pygments_lexer": "ipython3",
   "version": "3.10.13"
  }
 },
 "nbformat": 4,
 "nbformat_minor": 4
}
