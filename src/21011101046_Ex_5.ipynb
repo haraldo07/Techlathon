{
 "cells": [
  {
   "cell_type": "code",
   "execution_count": 64,
   "id": "036fe069",
   "metadata": {},
   "outputs": [],
   "source": [
    "import pandas as pd\n",
    "import numpy as np\n",
    "import tensorflow as tf\n",
    "from tensorflow import keras\n",
    "import matplotlib.pyplot as plt\n",
    "from sklearn.metrics import confusion_matrix"
   ]
  },
  {
   "cell_type": "code",
   "execution_count": 22,
   "id": "5ef29161",
   "metadata": {},
   "outputs": [],
   "source": [
    "from keras.datasets import fashion_mnist\n",
    "(x_train, y_train), (x_test, y_test)=fashion_mnist.load_data()"
   ]
  },
  {
   "cell_type": "code",
   "execution_count": 23,
   "id": "f10a8681",
   "metadata": {},
   "outputs": [],
   "source": [
    "x_train = x_train.astype(\"float32\") / 255\n",
    "x_test = x_test.astype(\"float32\") / 255\n",
    "x_train = np.expand_dims(x_train, -1)\n",
    "x_test = np.expand_dims(x_test, -1)\n",
    "\n",
    "y_train = keras.utils.to_categorical(y_train, 10)\n",
    "y_test = keras.utils.to_categorical(y_test, 10)"
   ]
  },
  {
   "cell_type": "code",
   "execution_count": 25,
   "id": "cc300d42",
   "metadata": {},
   "outputs": [
    {
     "data": {
      "text/plain": [
       "(60000, 28, 28, 1)"
      ]
     },
     "execution_count": 25,
     "metadata": {},
     "output_type": "execute_result"
    }
   ],
   "source": [
    "x_train.shape"
   ]
  },
  {
   "cell_type": "code",
   "execution_count": 123,
   "id": "58367281",
   "metadata": {},
   "outputs": [],
   "source": [
    "model = keras.Sequential(\n",
    "    [\n",
    "        keras.Input(shape=(28, 28, 1)),\n",
    "        keras.layers.Conv2D(8, padding='same',kernel_size=(3, 3), activation=\"relu\"),\n",
    "        #keras.layers.MaxPooling2D(pool_size=(2, 2)),\n",
    "        keras.layers.Conv2D(16, padding='same',kernel_size=(3, 3), activation=\"relu\"),\n",
    "        #keras.layers.MaxPooling2D(pool_size=(2, 2)),\n",
    "        keras.layers.Conv2D(32, padding='same',kernel_size=(3, 3), activation=\"relu\"),\n",
    "        keras.layers.MaxPooling2D(pool_size=(2, 2)),\n",
    "        keras.layers.Conv2D(64, padding='same',kernel_size=(3, 3), activation=\"relu\"),\n",
    "        keras.layers.MaxPooling2D(pool_size=(2, 2)),\n",
    "        keras.layers.Flatten(),\n",
    "        keras.layers.Dropout(0.5),\n",
    "        keras.layers.Dense(10, activation=\"softmax\"),\n",
    "    ]\n",
    ")"
   ]
  },
  {
   "cell_type": "code",
   "execution_count": 124,
   "id": "4407c997",
   "metadata": {},
   "outputs": [
    {
     "name": "stdout",
     "output_type": "stream",
     "text": [
      "Epoch 1/15\n",
      "211/211 [==============================] - 30s 141ms/step - loss: 0.7204 - accuracy: 0.7440 - val_loss: 0.4236 - val_accuracy: 0.8455\n",
      "Epoch 2/15\n",
      "211/211 [==============================] - 30s 140ms/step - loss: 0.4180 - accuracy: 0.8486 - val_loss: 0.3486 - val_accuracy: 0.8742\n",
      "Epoch 3/15\n",
      "211/211 [==============================] - 29s 138ms/step - loss: 0.3563 - accuracy: 0.8721 - val_loss: 0.3082 - val_accuracy: 0.8855\n",
      "Epoch 4/15\n",
      "211/211 [==============================] - 29s 138ms/step - loss: 0.3191 - accuracy: 0.8857 - val_loss: 0.2850 - val_accuracy: 0.8973\n",
      "Epoch 5/15\n",
      "211/211 [==============================] - 29s 139ms/step - loss: 0.2962 - accuracy: 0.8939 - val_loss: 0.2706 - val_accuracy: 0.9005\n",
      "Epoch 6/15\n",
      "211/211 [==============================] - 29s 138ms/step - loss: 0.2736 - accuracy: 0.9021 - val_loss: 0.2575 - val_accuracy: 0.9070\n",
      "Epoch 7/15\n",
      "211/211 [==============================] - 29s 138ms/step - loss: 0.2621 - accuracy: 0.9057 - val_loss: 0.2486 - val_accuracy: 0.9090\n",
      "Epoch 8/15\n",
      "211/211 [==============================] - 29s 138ms/step - loss: 0.2461 - accuracy: 0.9113 - val_loss: 0.2429 - val_accuracy: 0.9153\n",
      "Epoch 9/15\n",
      "211/211 [==============================] - 29s 138ms/step - loss: 0.2385 - accuracy: 0.9155 - val_loss: 0.2339 - val_accuracy: 0.9143\n",
      "Epoch 10/15\n",
      "211/211 [==============================] - 30s 142ms/step - loss: 0.2306 - accuracy: 0.9170 - val_loss: 0.2233 - val_accuracy: 0.9167\n",
      "Epoch 11/15\n",
      "211/211 [==============================] - 29s 138ms/step - loss: 0.2215 - accuracy: 0.9201 - val_loss: 0.2257 - val_accuracy: 0.9198\n",
      "Epoch 12/15\n",
      "211/211 [==============================] - 29s 139ms/step - loss: 0.2174 - accuracy: 0.9215 - val_loss: 0.2278 - val_accuracy: 0.9157\n",
      "Epoch 13/15\n",
      "211/211 [==============================] - 30s 141ms/step - loss: 0.2094 - accuracy: 0.9247 - val_loss: 0.2188 - val_accuracy: 0.9223\n",
      "Epoch 14/15\n",
      "211/211 [==============================] - 30s 141ms/step - loss: 0.2052 - accuracy: 0.9255 - val_loss: 0.2157 - val_accuracy: 0.9222\n",
      "Epoch 15/15\n",
      "211/211 [==============================] - 30s 144ms/step - loss: 0.2004 - accuracy: 0.9267 - val_loss: 0.2113 - val_accuracy: 0.9225\n"
     ]
    },
    {
     "data": {
      "text/plain": [
       "<keras.src.callbacks.History at 0x7f9d180cdb80>"
      ]
     },
     "execution_count": 124,
     "metadata": {},
     "output_type": "execute_result"
    }
   ],
   "source": [
    "batch_size = 256\n",
    "epochs = 15\n",
    "model.compile(loss=\"categorical_crossentropy\", optimizer=\"adam\", metrics=[\"accuracy\"])\n",
    "model.fit(x_train, y_train, batch_size=batch_size, epochs=epochs, validation_split=0.1)"
   ]
  },
  {
   "cell_type": "code",
   "execution_count": 125,
   "id": "0e2f49e8",
   "metadata": {},
   "outputs": [
    {
     "name": "stdout",
     "output_type": "stream",
     "text": [
      "Test accuracy: 92.0600\n"
     ]
    }
   ],
   "source": [
    "score = model.evaluate(x_test, y_test, verbose=0)\n",
    "print(\"Test accuracy: %.4f\" %(score[1]*100))\n"
   ]
  },
  {
   "cell_type": "code",
   "execution_count": 126,
   "id": "2a842eef",
   "metadata": {},
   "outputs": [
    {
     "name": "stdout",
     "output_type": "stream",
     "text": [
      "313/313 [==============================] - 1s 4ms/step\n"
     ]
    }
   ],
   "source": [
    "y_pred = model.predict(x_test)\n",
    "y_pred_classes = np.argmax(y_pred, axis=1)\n",
    "y_true_classes = np.argmax(y_test, axis=1)"
   ]
  },
  {
   "cell_type": "code",
   "execution_count": 127,
   "id": "8a8c0f5d",
   "metadata": {},
   "outputs": [
    {
     "name": "stdout",
     "output_type": "stream",
     "text": [
      "[[887   1  23  20   3   0  62   0   4   0]\n",
      " [  2 981   0  14   1   0   2   0   0   0]\n",
      " [ 14   1 897  10  36   0  41   0   1   0]\n",
      " [ 10   3   8 935  22   0  22   0   0   0]\n",
      " [  1   0  32  24 905   0  38   0   0   0]\n",
      " [  0   0   0   0   0 980   0  15   0   5]\n",
      " [118   1  51  32  95   0 698   0   5   0]\n",
      " [  0   0   0   0   0   5   0 982   0  13]\n",
      " [  1   1   3   4   2   2   1   3 983   0]\n",
      " [  0   0   0   0   0   6   1  35   0 958]]\n"
     ]
    }
   ],
   "source": [
    "confusion_mtx = confusion_matrix(y_true_classes,y_pred_classes)\n",
    "print(confusion_mtx)"
   ]
  },
  {
   "cell_type": "code",
   "execution_count": null,
   "id": "c99def23",
   "metadata": {},
   "outputs": [],
   "source": []
  }
 ],
 "metadata": {
  "kernelspec": {
   "display_name": "Python 3 (ipykernel)",
   "language": "python",
   "name": "python3"
  },
  "language_info": {
   "codemirror_mode": {
    "name": "ipython",
    "version": 3
   },
   "file_extension": ".py",
   "mimetype": "text/x-python",
   "name": "python",
   "nbconvert_exporter": "python",
   "pygments_lexer": "ipython3",
   "version": "3.9.7"
  }
 },
 "nbformat": 4,
 "nbformat_minor": 5
}
