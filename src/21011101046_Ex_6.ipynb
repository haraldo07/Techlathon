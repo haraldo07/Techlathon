{
 "cells": [
  {
   "cell_type": "code",
   "execution_count": 1,
   "id": "4da47f49",
   "metadata": {},
   "outputs": [],
   "source": [
    "import pandas as pd\n",
    "import numpy as np\n",
    "import tensorflow as tf\n",
    "from tensorflow import keras"
   ]
  },
  {
   "cell_type": "code",
   "execution_count": 2,
   "id": "712e1c9d",
   "metadata": {},
   "outputs": [],
   "source": [
    "from keras.datasets import mnist\n",
    "(x_train, y_train), (x_test, y_test)=mnist.load_data()"
   ]
  },
  {
   "cell_type": "code",
   "execution_count": 3,
   "id": "14e9f98e",
   "metadata": {},
   "outputs": [],
   "source": [
    "x_train = x_train.astype(\"float32\") / 255\n",
    "x_test = x_test.astype(\"float32\") / 255\n",
    "x_train = np.expand_dims(x_train, -1)\n",
    "x_test = np.expand_dims(x_test, -1)\n",
    "\n",
    "y_train = keras.utils.to_categorical(y_train, 10)\n",
    "y_test = keras.utils.to_categorical(y_test, 10)"
   ]
  },
  {
   "cell_type": "code",
   "execution_count": 77,
   "id": "2ca176c2",
   "metadata": {},
   "outputs": [],
   "source": [
    "model = keras.Sequential(\n",
    "    [\n",
    "        keras.Input(shape=(28, 28, 1)),\n",
    "        keras.layers.Conv2D(32, padding='same',kernel_size=(3, 3), activation=\"relu\"),\n",
    "        keras.layers.MaxPooling2D(pool_size=(2, 2)),\n",
    "        keras.layers.Flatten(),\n",
    "        keras.layers.Dense(10, activation=\"softmax\"),\n",
    "    ]\n",
    ")"
   ]
  },
  {
   "cell_type": "code",
   "execution_count": 78,
   "id": "58014054",
   "metadata": {},
   "outputs": [
    {
     "name": "stdout",
     "output_type": "stream",
     "text": [
      "Epoch 1/15\n",
      "211/211 [==============================] - 11s 51ms/step - loss: 0.4906 - accuracy: 0.8723 - val_loss: 0.1822 - val_accuracy: 0.9503\n",
      "Epoch 2/15\n",
      "211/211 [==============================] - 11s 53ms/step - loss: 0.1735 - accuracy: 0.9506 - val_loss: 0.1078 - val_accuracy: 0.9718\n",
      "Epoch 3/15\n",
      "211/211 [==============================] - 10s 49ms/step - loss: 0.1161 - accuracy: 0.9677 - val_loss: 0.0808 - val_accuracy: 0.9800\n",
      "Epoch 4/15\n",
      "211/211 [==============================] - 11s 50ms/step - loss: 0.0888 - accuracy: 0.9749 - val_loss: 0.0710 - val_accuracy: 0.9813\n",
      "Epoch 5/15\n",
      "211/211 [==============================] - 11s 54ms/step - loss: 0.0755 - accuracy: 0.9784 - val_loss: 0.0633 - val_accuracy: 0.9823\n",
      "Epoch 6/15\n",
      "211/211 [==============================] - 12s 55ms/step - loss: 0.0647 - accuracy: 0.9819 - val_loss: 0.0601 - val_accuracy: 0.9845\n",
      "Epoch 7/15\n",
      "211/211 [==============================] - 12s 55ms/step - loss: 0.0588 - accuracy: 0.9831 - val_loss: 0.0596 - val_accuracy: 0.9843\n",
      "Epoch 8/15\n",
      "211/211 [==============================] - 12s 55ms/step - loss: 0.0545 - accuracy: 0.9844 - val_loss: 0.0559 - val_accuracy: 0.9860\n",
      "Epoch 9/15\n",
      "211/211 [==============================] - 11s 53ms/step - loss: 0.0503 - accuracy: 0.9856 - val_loss: 0.0559 - val_accuracy: 0.9847\n",
      "Epoch 10/15\n",
      "211/211 [==============================] - 10s 49ms/step - loss: 0.0467 - accuracy: 0.9864 - val_loss: 0.0545 - val_accuracy: 0.9867\n",
      "Epoch 11/15\n",
      "211/211 [==============================] - 11s 53ms/step - loss: 0.0439 - accuracy: 0.9870 - val_loss: 0.0540 - val_accuracy: 0.9860\n",
      "Epoch 12/15\n",
      "211/211 [==============================] - 11s 54ms/step - loss: 0.0416 - accuracy: 0.9879 - val_loss: 0.0562 - val_accuracy: 0.9847\n",
      "Epoch 13/15\n",
      "211/211 [==============================] - 11s 52ms/step - loss: 0.0387 - accuracy: 0.9891 - val_loss: 0.0544 - val_accuracy: 0.9862\n",
      "Epoch 14/15\n",
      "211/211 [==============================] - 11s 53ms/step - loss: 0.0362 - accuracy: 0.9897 - val_loss: 0.0539 - val_accuracy: 0.9857\n",
      "Epoch 15/15\n",
      "211/211 [==============================] - 11s 53ms/step - loss: 0.0349 - accuracy: 0.9902 - val_loss: 0.0551 - val_accuracy: 0.9852\n"
     ]
    },
    {
     "data": {
      "text/plain": [
       "<keras.callbacks.History at 0x20fe9033d90>"
      ]
     },
     "execution_count": 78,
     "metadata": {},
     "output_type": "execute_result"
    }
   ],
   "source": [
    "batch_size = 256\n",
    "epochs = 15\n",
    "model.compile(loss=\"categorical_crossentropy\", optimizer=\"adam\", metrics=[\"accuracy\"])\n",
    "model.fit(x_train, y_train, batch_size=batch_size, epochs=epochs, validation_split=0.1)"
   ]
  },
  {
   "cell_type": "code",
   "execution_count": 79,
   "id": "d17a7f8d",
   "metadata": {},
   "outputs": [
    {
     "name": "stdout",
     "output_type": "stream",
     "text": [
      "Test accuracy: 98.2300\n"
     ]
    }
   ],
   "source": [
    "score = model.evaluate(x_test, y_test, verbose=0)\n",
    "print(\"Test accuracy: %.4f\" %(score[1]*100))"
   ]
  },
  {
   "cell_type": "code",
   "execution_count": 86,
   "id": "ea8b86bc",
   "metadata": {},
   "outputs": [],
   "source": [
    "model_ann = tf.keras.Sequential([\n",
    "    tf.keras.layers.Flatten(input_shape=(28,28,1)),\n",
    "    tf.keras.layers.Dense(64, activation='tanh'),\n",
    "    tf.keras.layers.Dense(32, activation='tanh'),\n",
    "    #tf.keras.layers.Dense(16, activation='tanh'),\n",
    "    tf.keras.layers.Dense(10, activation='softmax') \n",
    "])"
   ]
  },
  {
   "cell_type": "code",
   "execution_count": 87,
   "id": "ebae59a4",
   "metadata": {},
   "outputs": [],
   "source": [
    "model_ann.compile(optimizer='adam', loss='categorical_crossentropy', metrics=['accuracy'])"
   ]
  },
  {
   "cell_type": "code",
   "execution_count": 88,
   "id": "ebec2a69",
   "metadata": {},
   "outputs": [
    {
     "name": "stdout",
     "output_type": "stream",
     "text": [
      "Epoch 1/15\n",
      "211/211 [==============================] - 1s 2ms/step - loss: 0.5769 - accuracy: 0.8574 - val_loss: 0.2541 - val_accuracy: 0.9347\n",
      "Epoch 2/15\n",
      "211/211 [==============================] - 0s 2ms/step - loss: 0.2593 - accuracy: 0.9284 - val_loss: 0.1815 - val_accuracy: 0.9520\n",
      "Epoch 3/15\n",
      "211/211 [==============================] - 0s 2ms/step - loss: 0.1965 - accuracy: 0.9447 - val_loss: 0.1461 - val_accuracy: 0.9605\n",
      "Epoch 4/15\n",
      "211/211 [==============================] - 0s 2ms/step - loss: 0.1579 - accuracy: 0.9551 - val_loss: 0.1249 - val_accuracy: 0.9650\n",
      "Epoch 5/15\n",
      "211/211 [==============================] - 0s 2ms/step - loss: 0.1330 - accuracy: 0.9620 - val_loss: 0.1131 - val_accuracy: 0.9667\n",
      "Epoch 6/15\n",
      "211/211 [==============================] - 0s 2ms/step - loss: 0.1126 - accuracy: 0.9676 - val_loss: 0.1037 - val_accuracy: 0.9695\n",
      "Epoch 7/15\n",
      "211/211 [==============================] - 0s 2ms/step - loss: 0.0967 - accuracy: 0.9720 - val_loss: 0.0972 - val_accuracy: 0.9692\n",
      "Epoch 8/15\n",
      "211/211 [==============================] - 0s 2ms/step - loss: 0.0845 - accuracy: 0.9763 - val_loss: 0.0942 - val_accuracy: 0.9703\n",
      "Epoch 9/15\n",
      "211/211 [==============================] - 0s 2ms/step - loss: 0.0738 - accuracy: 0.9794 - val_loss: 0.0925 - val_accuracy: 0.9723\n",
      "Epoch 10/15\n",
      "211/211 [==============================] - 0s 2ms/step - loss: 0.0645 - accuracy: 0.9819 - val_loss: 0.0856 - val_accuracy: 0.9727\n",
      "Epoch 11/15\n",
      "211/211 [==============================] - 0s 2ms/step - loss: 0.0563 - accuracy: 0.9844 - val_loss: 0.0849 - val_accuracy: 0.9725\n",
      "Epoch 12/15\n",
      "211/211 [==============================] - 0s 2ms/step - loss: 0.0501 - accuracy: 0.9861 - val_loss: 0.0820 - val_accuracy: 0.9748\n",
      "Epoch 13/15\n",
      "211/211 [==============================] - 0s 2ms/step - loss: 0.0435 - accuracy: 0.9887 - val_loss: 0.0865 - val_accuracy: 0.9733\n",
      "Epoch 14/15\n",
      "211/211 [==============================] - 0s 2ms/step - loss: 0.0392 - accuracy: 0.9896 - val_loss: 0.0872 - val_accuracy: 0.9745\n",
      "Epoch 15/15\n",
      "211/211 [==============================] - 0s 2ms/step - loss: 0.0342 - accuracy: 0.9914 - val_loss: 0.0839 - val_accuracy: 0.9740\n"
     ]
    },
    {
     "data": {
      "text/plain": [
       "<keras.callbacks.History at 0x20fe9121650>"
      ]
     },
     "execution_count": 88,
     "metadata": {},
     "output_type": "execute_result"
    }
   ],
   "source": [
    "model_ann.fit(x_train, y_train, epochs=15, batch_size=256, validation_split=0.1)"
   ]
  },
  {
   "cell_type": "code",
   "execution_count": 89,
   "id": "04d0b54a",
   "metadata": {},
   "outputs": [
    {
     "name": "stdout",
     "output_type": "stream",
     "text": [
      "313/313 [==============================] - 1s 2ms/step - loss: 0.0560 - accuracy: 0.9823\n",
      "Test loss: 0.0560, Test accuracy: 98.2300\n"
     ]
    }
   ],
   "source": [
    "loss, accuracy = model.evaluate(x_test, y_test)\n",
    "print(f'Test loss: {loss:.4f}, Test accuracy: {accuracy*100:.4f}')"
   ]
  },
  {
   "cell_type": "code",
   "execution_count": 90,
   "id": "9d280fab",
   "metadata": {},
   "outputs": [
    {
     "name": "stdout",
     "output_type": "stream",
     "text": [
      "Model: \"sequential_14\"\n",
      "_________________________________________________________________\n",
      " Layer (type)                Output Shape              Param #   \n",
      "=================================================================\n",
      " conv2d_6 (Conv2D)           (None, 28, 28, 32)        320       \n",
      "                                                                 \n",
      " max_pooling2d_6 (MaxPooling  (None, 14, 14, 32)       0         \n",
      " 2D)                                                             \n",
      "                                                                 \n",
      " flatten_14 (Flatten)        (None, 6272)              0         \n",
      "                                                                 \n",
      " dense_35 (Dense)            (None, 10)                62730     \n",
      "                                                                 \n",
      "=================================================================\n",
      "Total params: 63,050\n",
      "Trainable params: 63,050\n",
      "Non-trainable params: 0\n",
      "_________________________________________________________________\n"
     ]
    }
   ],
   "source": [
    "model.summary()"
   ]
  },
  {
   "cell_type": "code",
   "execution_count": 91,
   "id": "bb960d9e",
   "metadata": {},
   "outputs": [
    {
     "name": "stdout",
     "output_type": "stream",
     "text": [
      "Model: \"sequential_16\"\n",
      "_________________________________________________________________\n",
      " Layer (type)                Output Shape              Param #   \n",
      "=================================================================\n",
      " flatten_16 (Flatten)        (None, 784)               0         \n",
      "                                                                 \n",
      " dense_40 (Dense)            (None, 64)                50240     \n",
      "                                                                 \n",
      " dense_41 (Dense)            (None, 32)                2080      \n",
      "                                                                 \n",
      " dense_42 (Dense)            (None, 10)                330       \n",
      "                                                                 \n",
      "=================================================================\n",
      "Total params: 52,650\n",
      "Trainable params: 52,650\n",
      "Non-trainable params: 0\n",
      "_________________________________________________________________\n"
     ]
    }
   ],
   "source": [
    "model_ann.summary()"
   ]
  },
  {
   "cell_type": "code",
   "execution_count": null,
   "id": "22f30718",
   "metadata": {},
   "outputs": [],
   "source": []
  },
  {
   "cell_type": "code",
   "execution_count": null,
   "id": "a569212f",
   "metadata": {},
   "outputs": [],
   "source": []
  }
 ],
 "metadata": {
  "kernelspec": {
   "display_name": "Python 3 (ipykernel)",
   "language": "python",
   "name": "python3"
  },
  "language_info": {
   "codemirror_mode": {
    "name": "ipython",
    "version": 3
   },
   "file_extension": ".py",
   "mimetype": "text/x-python",
   "name": "python",
   "nbconvert_exporter": "python",
   "pygments_lexer": "ipython3",
   "version": "3.10.13"
  }
 },
 "nbformat": 4,
 "nbformat_minor": 5
}
